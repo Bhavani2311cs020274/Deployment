{
 "cells": [
  {
   "cell_type": "code",
   "execution_count": 3,
   "id": "3d521367-3a72-4c77-914b-d528be90a544",
   "metadata": {},
   "outputs": [
    {
     "name": "stdout",
     "output_type": "stream",
     "text": [
      "Model saved as iris_model.pk1\n"
     ]
    }
   ],
   "source": [
    "#save_model.py\n",
    "from sklearn.datasets import load_iris\n",
    "from sklearn.ensemble import RandomForestClassifier\n",
    "import joblib\n",
    "#Load dataset\n",
    "iris=load_iris()\n",
    "X,y=iris.data,iris.target\n",
    "#Train model\n",
    "model = RandomForestClassifier()\n",
    "model.fit(X,y)\n",
    "#save model\n",
    "joblib.dump(model, 'iris_model.pk1')\n",
    "print(\"Model saved as iris_model.pk1\")"
   ]
  },
  {
   "cell_type": "code",
   "execution_count": 9,
   "id": "8e52fd44-88ec-449c-b063-35f031506a8f",
   "metadata": {},
   "outputs": [
    {
     "ename": "SyntaxError",
     "evalue": "invalid syntax (3722983448.py, line 25)",
     "output_type": "error",
     "traceback": [
      "\u001b[1;36m  Cell \u001b[1;32mIn[9], line 25\u001b[1;36m\u001b[0m\n\u001b[1;33m    if__name__=='__main__':\u001b[0m\n\u001b[1;37m                          ^\u001b[0m\n\u001b[1;31mSyntaxError\u001b[0m\u001b[1;31m:\u001b[0m invalid syntax\n"
     ]
    }
   ],
   "source": [
    "#app.py\n",
    "from flask import Flask, render_template, request\n",
    "import joblib\n",
    "import numpy as np\n",
    "#Initialize Flask app\n",
    "app= Flask(_name_)\n",
    "#Load trained model\n",
    "model = joblib.load('iris_model_pk1')\n",
    "@app.route('/')\n",
    "def home():\n",
    "    return render_template('home.html')\n",
    "@app.route('/predict',methods=['POST'])\n",
    "def predict():\n",
    "    #Get data from form\n",
    "    try:\n",
    "        features=[float(request.form[f'feature{i}'])for i in range(1,5)]\n",
    "    except ValueError:\n",
    "        return render_template('result.html',prediction=\"Inavlid input. Please enter numeric values.\")\n",
    "        #Make prediction\n",
    "        prediction=model.predict([features])[0]\n",
    "        #Map prediction to class name\n",
    "        class_names=['Setosa','Versicolor','Virginica']\n",
    "        result=class_names[prediction]\n",
    "        return render_template('result.html',prediction=result)\n",
    "if__name__=='__main__':\n",
    "    app.run(debug=True)"
   ]
  },
  {
   "cell_type": "code",
   "execution_count": null,
   "id": "c936f22e-a497-4f4d-8ed3-65579106607a",
   "metadata": {},
   "outputs": [],
   "source": []
  }
 ],
 "metadata": {
  "kernelspec": {
   "display_name": "Python [conda env:base] *",
   "language": "python",
   "name": "conda-base-py"
  },
  "language_info": {
   "codemirror_mode": {
    "name": "ipython",
    "version": 3
   },
   "file_extension": ".py",
   "mimetype": "text/x-python",
   "name": "python",
   "nbconvert_exporter": "python",
   "pygments_lexer": "ipython3",
   "version": "3.12.7"
  }
 },
 "nbformat": 4,
 "nbformat_minor": 5
}
